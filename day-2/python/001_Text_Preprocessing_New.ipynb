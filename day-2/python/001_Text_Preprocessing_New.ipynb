{
 "cells": [
  {
   "cell_type": "markdown",
   "metadata": {
    "colab_type": "text",
    "id": "ITA7F96h3Jet"
   },
   "source": [
    "# Text Mining"
   ]
  },
  {
   "cell_type": "markdown",
   "metadata": {
    "colab_type": "text",
    "id": "M4Weq4-cVk0i"
   },
   "source": [
    "Text mining is a process of exploring sizeable textual data and find patterns. Text Mining process the text itself. Finding frequency counts of words, length of the sentence, presence/absence of specific words is known as text mining. \n",
    "\n",
    "Natural language processing is one of the components of text mining. NLP helps identified sentiment, finding entities in the sentence, and category of blog/article. Text mining is preprocessed data for text analytics. In Text Analytics, statistical and machine learning algorithm used to classify information."
   ]
  },
  {
   "cell_type": "code",
   "execution_count": null,
   "metadata": {
    "colab": {
     "base_uri": "https://localhost:8080/",
     "height": 51
    },
    "colab_type": "code",
    "id": "Who5fcwfvaIn",
    "outputId": "d13c0fb6-49de-4b09-e31e-1521b0f7b725"
   },
   "outputs": [],
   "source": [
    "# Install Library\n",
    "!pip install nltk"
   ]
  },
  {
   "cell_type": "markdown",
   "metadata": {
    "colab_type": "text",
    "id": "-XTF7_OkUyRH"
   },
   "source": [
    "NLTK is a powerful Python package that provides a set of diverse natural languages algorithms. It is free, opensource, easy to use, large community, and well documented. NLTK consists of the most common algorithms such as tokenizing, part-of-speech tagging, stemming, sentiment analysis, topic segmentation, and named entity recognition. NLTK helps the computer to analysis, preprocess, and understand the written text."
   ]
  },
  {
   "cell_type": "code",
   "execution_count": null,
   "metadata": {
    "colab": {
     "base_uri": "https://localhost:8080/",
     "height": 136
    },
    "colab_type": "code",
    "id": "25jtxy_RUj7W",
    "outputId": "d13e8c84-56fb-400b-bb9b-9b5fd505f65b"
   },
   "outputs": [],
   "source": [
    "# Import Library\n",
    "import nltk\n",
    "nltk.download('punkt') # Sentence Tokenizer\n",
    "nltk.download('stopwords') # Stopword\n",
    "nltk.download('wordnet') # Wordnet Dictionary for Lemmatization"
   ]
  },
  {
   "cell_type": "markdown",
   "metadata": {
    "colab_type": "text",
    "id": "hAgHK0Mnf1wv"
   },
   "source": [
    "## Text Pre-Processing"
   ]
  },
  {
   "cell_type": "markdown",
   "metadata": {
    "colab_type": "text",
    "id": "OfIO62ScWbXt"
   },
   "source": [
    "Text preprocessing is traditionally an important step for natural language processing (NLP) tasks. It transforms text into a more digestible form so that machine learning algorithms can perform better."
   ]
  },
  {
   "cell_type": "markdown",
   "metadata": {
    "colab_type": "text",
    "id": "0UpC2JolU_jY"
   },
   "source": [
    "###**1. English Text Pre-Processing**"
   ]
  },
  {
   "cell_type": "markdown",
   "metadata": {
    "colab_type": "text",
    "id": "EhCoryR1V1i6"
   },
   "source": [
    "Here we preprocess the simple word below."
   ]
  },
  {
   "cell_type": "code",
   "execution_count": null,
   "metadata": {
    "colab": {
     "base_uri": "https://localhost:8080/",
     "height": 34
    },
    "colab_type": "code",
    "id": "VGSkSUS1Vzk6",
    "outputId": "c1a57fef-ca2f-4a7b-87c0-b945855cdf1f"
   },
   "outputs": [],
   "source": [
    "# Input English Text\n",
    "text_en = 'Coronavirus patients given a three-drug cocktail got better more quickly, Hong Kong researchers reported.'\n",
    "text_en"
   ]
  },
  {
   "cell_type": "markdown",
   "metadata": {
    "colab_type": "text",
    "id": "edMbDC4odWqs"
   },
   "source": [
    "##### **a. Remove Symbol and Character**"
   ]
  },
  {
   "cell_type": "markdown",
   "metadata": {
    "colab_type": "text",
    "id": "JHpObEQaZH5B"
   },
   "source": [
    "Remove symbol and character from the text"
   ]
  },
  {
   "cell_type": "code",
   "execution_count": null,
   "metadata": {
    "colab": {
     "base_uri": "https://localhost:8080/",
     "height": 34
    },
    "colab_type": "code",
    "id": "LtSNnHuAdb3d",
    "outputId": "09e03041-637d-4971-9059-1ece4cca2054"
   },
   "outputs": [],
   "source": [
    "# Import Library\n",
    "import string \n",
    "\n",
    "# Remove Symbol and Character\n",
    "text_en_nosymbol = text_en.translate(str.maketrans('','',string.punctuation)).lower()\n",
    "text_en_nosymbol"
   ]
  },
  {
   "cell_type": "markdown",
   "metadata": {
    "colab_type": "text",
    "id": "n1_uwT7EVk8S"
   },
   "source": [
    "##### **b. Tokenization**"
   ]
  },
  {
   "cell_type": "markdown",
   "metadata": {
    "colab_type": "text",
    "id": "NRE7Yd8rWqSc"
   },
   "source": [
    "Tokenization is the process of breaking a document down into words, punctuation marks, numeric digits, etc. We can do sentence tokenization and word tokenization."
   ]
  },
  {
   "cell_type": "markdown",
   "metadata": {
    "colab_type": "text",
    "id": "JHnq0MPJZbbZ"
   },
   "source": [
    "Sentence Tokenization"
   ]
  },
  {
   "cell_type": "code",
   "execution_count": null,
   "metadata": {
    "colab": {
     "base_uri": "https://localhost:8080/",
     "height": 34
    },
    "colab_type": "code",
    "id": "TI9U7NG9U1TS",
    "outputId": "26227cba-b5cd-41c2-d32b-36ecae36af51"
   },
   "outputs": [],
   "source": [
    "# Import Module \n",
    "from nltk.tokenize import sent_tokenize\n",
    "\n",
    "# Tokenize Sentence\n",
    "text_en_tokenizeds =sent_tokenize(text_en_nosymbol)\n",
    "\n",
    "# Show Tokenized Sentence\n",
    "text_en_tokenizeds"
   ]
  },
  {
   "cell_type": "markdown",
   "metadata": {
    "colab_type": "text",
    "id": "Qp7cNx3CZe6f"
   },
   "source": [
    "Word Tokenization"
   ]
  },
  {
   "cell_type": "code",
   "execution_count": null,
   "metadata": {
    "colab": {
     "base_uri": "https://localhost:8080/",
     "height": 255
    },
    "colab_type": "code",
    "id": "YX-ym7GSVkjx",
    "outputId": "f0bd0601-6da9-462c-f445-e9e8e9a16aee"
   },
   "outputs": [],
   "source": [
    "# Word Tokenization\n",
    "\n",
    "# Import Module\n",
    "from nltk.tokenize import word_tokenize\n",
    "\n",
    "# Tokenize Word\n",
    "text_en_tokenizedw = word_tokenize(text_en_nosymbol)\n",
    "\n",
    "# Show Tokenized Sentence\n",
    "text_en_tokenizedw"
   ]
  },
  {
   "cell_type": "markdown",
   "metadata": {
    "colab_type": "text",
    "id": "ppeneYMaWb4P"
   },
   "source": [
    "##### **c. Remove Stopword**"
   ]
  },
  {
   "cell_type": "markdown",
   "metadata": {
    "colab_type": "text",
    "id": "Pg-j7uhaaPsW"
   },
   "source": [
    "Though \"stop words\" usually refers to the most common words in a language. For some search engines, these are some of the most common, short function words, such as the, is, at, which, and on. In this case, stop words can cause problems when searching for phrases that include them, particularly in names such as \"The Who\", \"The The\", or \"Take That\"."
   ]
  },
  {
   "cell_type": "code",
   "execution_count": null,
   "metadata": {
    "colab": {
     "base_uri": "https://localhost:8080/",
     "height": 1000
    },
    "colab_type": "code",
    "id": "p6pW7G7wXEle",
    "outputId": "ecb4fe48-5fea-4b39-b4ef-05a176f2834d"
   },
   "outputs": [],
   "source": [
    "# Download English Stopwords from NLTK\n",
    "from nltk.corpus import stopwords\n",
    "\n",
    "# Show Stopwords\n",
    "stopwords_en = nltk.corpus.stopwords.words('english')\n",
    "stopwords_en"
   ]
  },
  {
   "cell_type": "code",
   "execution_count": null,
   "metadata": {
    "colab": {
     "base_uri": "https://localhost:8080/",
     "height": 71
    },
    "colab_type": "code",
    "id": "LTOto8ctW3-6",
    "outputId": "2478fe8e-f835-4f81-809d-c5ebc227efe7"
   },
   "outputs": [],
   "source": [
    "# Removing Stopwords\n",
    "text_en_filtered =[]\n",
    "for w in text_en_tokenizedw:\n",
    "    if w not in stopwords_en:\n",
    "        text_en_filtered.append(w)\n",
    "\n",
    "# Show Tokenized vs Filtered\n",
    "print('Tokenized:',text_en_tokenizedw)\n",
    "print('Filtered:',text_en_filtered)"
   ]
  },
  {
   "cell_type": "markdown",
   "metadata": {
    "colab_type": "text",
    "id": "M3rd6uyoW_xP"
   },
   "source": [
    "##### **d. Text Normalization**"
   ]
  },
  {
   "cell_type": "markdown",
   "metadata": {
    "colab_type": "text",
    "id": "w-Lqx79cWwAF"
   },
   "source": [
    "Text normalization considers another type of noise in the text. For example connection, connected, connecting word reduce to a common word \"connect\". It reduces derivationally related forms of a word to a common root word.\n",
    "\n",
    "Stemming and Lemmatization are Text Normalization (or sometimes called Word Normalization) techniques in the field of Natural Language Processing that are used to prepare text, words, and documents for further processing. "
   ]
  },
  {
   "cell_type": "markdown",
   "metadata": {
    "colab_type": "text",
    "id": "nfjzKWT7bf9S"
   },
   "source": [
    "***Stemming***"
   ]
  },
  {
   "cell_type": "markdown",
   "metadata": {
    "colab_type": "text",
    "id": "ecmB7mfnbhzW"
   },
   "source": [
    "Stemming is the process of reducing inflected (or sometimes derived) words to their word stem, base or root form—generally a written word form. Example : consulting -> consult, parties -> parti"
   ]
  },
  {
   "cell_type": "code",
   "execution_count": null,
   "metadata": {
    "colab": {
     "base_uri": "https://localhost:8080/",
     "height": 71
    },
    "colab_type": "code",
    "id": "pBVajLjzXNlD",
    "outputId": "9dddf02c-1de4-46e1-f4db-bc664f935855"
   },
   "outputs": [],
   "source": [
    "# Import Modules\n",
    "from nltk.stem import PorterStemmer\n",
    "from nltk.tokenize import sent_tokenize, word_tokenize\n",
    "\n",
    "# Set Stemming Function\n",
    "stemmer = PorterStemmer()\n",
    "text_en_stemmed =[]\n",
    "for i in text_en_filtered:\n",
    "    text_en_stemmed.append(stemmer.stem(i))\n",
    "\n",
    "# Show\n",
    "print('Filtered:',text_en_filtered)\n",
    "print('Stemmed:',text_en_stemmed)"
   ]
  },
  {
   "cell_type": "markdown",
   "metadata": {
    "colab_type": "text",
    "id": "ynqS0q87eN2W"
   },
   "source": [
    "***Lemmatization***"
   ]
  },
  {
   "cell_type": "markdown",
   "metadata": {
    "colab_type": "text",
    "id": "9oTTpa9eeCVR"
   },
   "source": [
    "Lemmatization, unlike Stemming, reduces the inflected words properly ensuring that the root word belongs to the language. Example : best -> good, parti -> party"
   ]
  },
  {
   "cell_type": "markdown",
   "metadata": {
    "colab_type": "text",
    "id": "0rER-92If1gU"
   },
   "source": [
    "*Lemmatizing with Adjective denotation*"
   ]
  },
  {
   "cell_type": "code",
   "execution_count": null,
   "metadata": {
    "colab": {
     "base_uri": "https://localhost:8080/",
     "height": 71
    },
    "colab_type": "code",
    "id": "31z9spWrXO3y",
    "outputId": "0182ddbd-ef0c-4c0a-9b5d-8aa2e75f7257"
   },
   "outputs": [],
   "source": [
    "# Import Modules\n",
    "from nltk.stem.wordnet import WordNetLemmatizer\n",
    "\n",
    "# Set Lemmatization Function\n",
    "lemmatizer = WordNetLemmatizer()\n",
    "text_en_lemmatized1 =[]\n",
    "for i in text_en_filtered:\n",
    "    text_en_lemmatized1.append(lemmatizer.lemmatize(i, pos='a'))\n",
    "\n",
    "# Show\n",
    "print('Stemmed:',text_en_stemmed)\n",
    "print('Lemmatized:',text_en_lemmatized1)"
   ]
  },
  {
   "cell_type": "markdown",
   "metadata": {
    "colab_type": "text",
    "id": "B4apnrXOgnq4"
   },
   "source": [
    "*Lemmatizing the text with Verb denotation*"
   ]
  },
  {
   "cell_type": "code",
   "execution_count": null,
   "metadata": {
    "colab": {
     "base_uri": "https://localhost:8080/",
     "height": 54
    },
    "colab_type": "code",
    "id": "dTuiiPgzYbJH",
    "outputId": "d226d8a8-cdd9-4709-a690-8e5aed3e7af8"
   },
   "outputs": [],
   "source": [
    "# Import Modules\n",
    "from nltk.stem import WordNetLemmatizer\n",
    "from nltk.corpus import wordnet\n",
    "\n",
    "# Set Lemmatization Function\n",
    "lemmatizer = nltk.WordNetLemmatizer()\n",
    "text_en_lemmatized2 = [lemmatizer.lemmatize(i, pos='v') for i in text_en_lemmatized1]\n",
    "\n",
    "# Show\n",
    "print('Lemmatized', text_en_lemmatized2)"
   ]
  },
  {
   "cell_type": "markdown",
   "metadata": {
    "colab_type": "text",
    "id": "hV1xR3dqzHql"
   },
   "source": [
    "*Lemmatizing the text with Noun denotation*"
   ]
  },
  {
   "cell_type": "code",
   "execution_count": null,
   "metadata": {
    "colab": {
     "base_uri": "https://localhost:8080/",
     "height": 54
    },
    "colab_type": "code",
    "id": "APWSjWtMzJ3d",
    "outputId": "301cabec-d309-48e4-84f7-854820e20521"
   },
   "outputs": [],
   "source": [
    "# Import Modules\n",
    "from nltk.stem import WordNetLemmatizer\n",
    "from nltk.corpus import wordnet\n",
    "\n",
    "# Set Lemmatization Function\n",
    "lemmatizer = nltk.WordNetLemmatizer()\n",
    "text_en_lemmatized3 = [lemmatizer.lemmatize(i, pos='n') for i in text_en_lemmatized2]\n",
    "\n",
    "# Show\n",
    "print('Lemmatized', text_en_lemmatized3)"
   ]
  },
  {
   "cell_type": "markdown",
   "metadata": {
    "colab_type": "text",
    "id": "EhhRhfb8iRTM"
   },
   "source": [
    "### **2. Indonesian Text Preprocessing**"
   ]
  },
  {
   "cell_type": "code",
   "execution_count": null,
   "metadata": {
    "colab": {
     "base_uri": "https://localhost:8080/",
     "height": 34
    },
    "colab_type": "code",
    "id": "mNp-GXcTiZD1",
    "outputId": "bfda6f13-a807-4311-a947-14f0a17c6f5c"
   },
   "outputs": [],
   "source": [
    "# Input Text (Indonesia)\n",
    "text_id = 'Rakyat memenuhi halaman gedung untuk menyuarakan isi hatinya kepada pemerintah pada tanggal 9 - maret - 2020.'\n",
    "text_id"
   ]
  },
  {
   "cell_type": "markdown",
   "metadata": {
    "colab_type": "text",
    "id": "1SP_84VmkPNF"
   },
   "source": [
    "##### **a. Remove Symbol and Character**"
   ]
  },
  {
   "cell_type": "code",
   "execution_count": null,
   "metadata": {
    "colab": {
     "base_uri": "https://localhost:8080/",
     "height": 34
    },
    "colab_type": "code",
    "id": "A3fs7LR2izRf",
    "outputId": "8aeadf33-2691-4619-9718-a5921515ad70"
   },
   "outputs": [],
   "source": [
    "# Import Library\n",
    "import string \n",
    "\n",
    "# Remove Symbol\n",
    "text_id_nosymbol = text_id.translate(str.maketrans('','',string.punctuation)).lower()\n",
    "text_id_nosymbol"
   ]
  },
  {
   "cell_type": "markdown",
   "metadata": {
    "colab_type": "text",
    "id": "vRJ4-WQQkKM1"
   },
   "source": [
    "##### **b. Word Tokenization**"
   ]
  },
  {
   "cell_type": "code",
   "execution_count": null,
   "metadata": {
    "colab": {
     "base_uri": "https://localhost:8080/",
     "height": 272
    },
    "colab_type": "code",
    "id": "04qa0z5qicTl",
    "outputId": "5e748d21-d9c8-4c1b-e815-a2e5bef26ac9"
   },
   "outputs": [],
   "source": [
    "# Import Module\n",
    "from nltk.tokenize import word_tokenize\n",
    "\n",
    "# Tokenize Word\n",
    "text_id_tokenized = word_tokenize(text_id_nosymbol)\n",
    "\n",
    "# Show\n",
    "text_id_tokenized"
   ]
  },
  {
   "cell_type": "markdown",
   "metadata": {
    "colab_type": "text",
    "id": "MS_VlVzPkULw"
   },
   "source": [
    "##### **c. Remove Stopword**"
   ]
  },
  {
   "cell_type": "code",
   "execution_count": null,
   "metadata": {
    "colab": {
     "base_uri": "https://localhost:8080/",
     "height": 1000
    },
    "colab_type": "code",
    "id": "Cx5RJb6wjeo2",
    "outputId": "81232268-8195-42f8-b324-ceab69255538"
   },
   "outputs": [],
   "source": [
    "# Download Indonesian Stopword\n",
    "stopwords_id = nltk.corpus.stopwords.words('indonesian')\n",
    "\n",
    "# Show Stopwords\n",
    "stopwords_id"
   ]
  },
  {
   "cell_type": "code",
   "execution_count": null,
   "metadata": {
    "colab": {
     "base_uri": "https://localhost:8080/",
     "height": 71
    },
    "colab_type": "code",
    "id": "m4zPeY7LjQGX",
    "outputId": "e0d05226-ff89-4a85-a412-bfc2f04a7edd"
   },
   "outputs": [],
   "source": [
    "# Removing Stopword\n",
    "text_id_filtered = []\n",
    "for w in text_id_tokenized:\n",
    "    if w not in stopwords_id:\n",
    "        text_id_filtered.append(w)\n",
    "\n",
    "# Show\n",
    "print('Tokenized:',text_id_tokenized)\n",
    "print('Filtered:',text_id_filtered)"
   ]
  },
  {
   "cell_type": "markdown",
   "metadata": {
    "colab_type": "text",
    "id": "FE_s53fxkjrd"
   },
   "source": [
    "##### **d. Text Normalization**"
   ]
  },
  {
   "cell_type": "code",
   "execution_count": null,
   "metadata": {
    "colab": {
     "base_uri": "https://localhost:8080/",
     "height": 122
    },
    "colab_type": "code",
    "id": "iqPXepEyJ66y",
    "outputId": "fa48a760-2095-424a-e54c-b0bba5114382"
   },
   "outputs": [],
   "source": [
    "# Install Library for Text Normalization\n",
    "! pip install sastrawi"
   ]
  },
  {
   "cell_type": "code",
   "execution_count": null,
   "metadata": {
    "colab": {},
    "colab_type": "code",
    "id": "FeRIjvSDKCW8"
   },
   "outputs": [],
   "source": [
    "# Import Library\n",
    "import re"
   ]
  },
  {
   "cell_type": "markdown",
   "metadata": {
    "colab_type": "text",
    "id": "lr2MTopokDr2"
   },
   "source": [
    "***Stemming***"
   ]
  },
  {
   "cell_type": "code",
   "execution_count": null,
   "metadata": {
    "colab": {
     "base_uri": "https://localhost:8080/",
     "height": 71
    },
    "colab_type": "code",
    "id": "WZFKF1PeKGK3",
    "outputId": "c1ccde2b-6324-49c5-e4c4-5b37e79ab8a3"
   },
   "outputs": [],
   "source": [
    "# Import Module\n",
    "from Sastrawi.Stemmer.StemmerFactory import StemmerFactory\n",
    "from nltk.tokenize.treebank import TreebankWordDetokenizer\n",
    "\n",
    "# Create Stemmer Function\n",
    "stemmer_id = StemmerFactory().create_stemmer()\n",
    "text_id_stemmed = [stemmer_id.stem(i) for i in text_id_filtered]\n",
    "\n",
    "# Show\n",
    "print('Filtered:', text_id_filtered)\n",
    "print('Stemmed:', text_id_stemmed)"
   ]
  }
 ],
 "metadata": {
  "colab": {
   "collapsed_sections": [],
   "name": "Copy of Text Preprocessing",
   "provenance": [],
   "toc_visible": true
  },
  "kernelspec": {
   "display_name": "Python 3",
   "language": "python",
   "name": "python3"
  },
  "language_info": {
   "codemirror_mode": {
    "name": "ipython",
    "version": 3
   },
   "file_extension": ".py",
   "mimetype": "text/x-python",
   "name": "python",
   "nbconvert_exporter": "python",
   "pygments_lexer": "ipython3",
   "version": "3.7.1"
  }
 },
 "nbformat": 4,
 "nbformat_minor": 2
}
