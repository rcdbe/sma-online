{
  "nbformat": 4,
  "nbformat_minor": 0,
  "metadata": {
    "colab": {
      "name": "002_Detecting_bot.ipynb",
      "provenance": [],
      "collapsed_sections": [],
      "include_colab_link": true
    },
    "kernelspec": {
      "name": "python3",
      "display_name": "Python 3"
    }
  },
  "cells": [
    {
      "cell_type": "markdown",
      "metadata": {
        "id": "view-in-github",
        "colab_type": "text"
      },
      "source": [
        "<a href=\"https://colab.research.google.com/github/rcdbe/sma-online/blob/master/day-2/python/Detecting_bot.ipynb\" target=\"_parent\"><img src=\"https://colab.research.google.com/assets/colab-badge.svg\" alt=\"Open In Colab\"/></a>"
      ]
    },
    {
      "cell_type": "markdown",
      "metadata": {
        "id": "i106n2wdsDjn",
        "colab_type": "text"
      },
      "source": [
        "#Bot Detection"
      ]
    },
    {
      "cell_type": "markdown",
      "metadata": {
        "id": "1b8tfYOcLrTf",
        "colab_type": "text"
      },
      "source": [
        "Machine Learning Identifies Malicious Behavior. As each device roams your website, Imperva Bot Management collects and analyzes data about its behavior.\n",
        "\n",
        "Dataset Source: https://github.com/RohanBhirangi/Twitter-Bot-Detection"
      ]
    },
    {
      "cell_type": "markdown",
      "metadata": {
        "id": "XlFfeUXnL_D0",
        "colab_type": "text"
      },
      "source": [
        "**Install and Import Libraries**"
      ]
    },
    {
      "cell_type": "code",
      "metadata": {
        "id": "-3a6i4UbsFde",
        "colab_type": "code",
        "colab": {}
      },
      "source": [
        "# Import Libraries\n",
        "import pandas as pd\n",
        "import numpy as np\n",
        "import matplotlib.pyplot as plt\n",
        "import sklearn.metrics as metrics\n",
        "import warnings\n",
        "warnings.filterwarnings('ignore')"
      ],
      "execution_count": 0,
      "outputs": []
    },
    {
      "cell_type": "markdown",
      "metadata": {
        "id": "17h0HFtbSuJA",
        "colab_type": "text"
      },
      "source": [
        "## a.Modeling Bot Detector"
      ]
    },
    {
      "cell_type": "markdown",
      "metadata": {
        "id": "5ygGySxgMGNg",
        "colab_type": "text"
      },
      "source": [
        "**Import Dataset**"
      ]
    },
    {
      "cell_type": "code",
      "metadata": {
        "id": "2jTY1l5MxW5_",
        "colab_type": "code",
        "colab": {}
      },
      "source": [
        "# Import Dataset\n",
        "df_bot = pd.read_csv('https://raw.githubusercontent.com/rcdbe/sma-online/master/day-2/python/data/data_bot.csv', sep = ';')\n",
        "df_bot.head()"
      ],
      "execution_count": 0,
      "outputs": []
    },
    {
      "cell_type": "markdown",
      "metadata": {
        "id": "cYpBHB2WMVt8",
        "colab_type": "text"
      },
      "source": [
        "**Set Feature and Target**"
      ]
    },
    {
      "cell_type": "code",
      "metadata": {
        "id": "XU0Wsos6xlCE",
        "colab_type": "code",
        "colab": {}
      },
      "source": [
        "# Select the Required Column\n",
        "df_bot_feature = df_bot[['followers_count',\n",
        "                         'friends_count',\n",
        "                         'listed_count',\n",
        "                         'favourites_count',\n",
        "                         'statuses_count',\n",
        "                         'verified']]\n",
        "df_bot_feature.head()"
      ],
      "execution_count": 0,
      "outputs": []
    },
    {
      "cell_type": "code",
      "metadata": {
        "id": "L_VjaNEMNoTW",
        "colab_type": "code",
        "colab": {}
      },
      "source": [
        "# Encode feature\n",
        "df_bot_feature[\"verified\"] = df_bot_feature[\"verified\"].astype('category')\n",
        "df_bot_feature[\"verified\"] = df_bot_feature[\"verified\"].cat.codes\n",
        "df_bot_feature"
      ],
      "execution_count": 0,
      "outputs": []
    },
    {
      "cell_type": "code",
      "metadata": {
        "id": "VIdJnZM5x5Vu",
        "colab_type": "code",
        "colab": {}
      },
      "source": [
        "# Set Target\n",
        "target = df_bot['bot']\n",
        "target"
      ],
      "execution_count": 0,
      "outputs": []
    },
    {
      "cell_type": "markdown",
      "metadata": {
        "id": "2pmjhuCiMbLz",
        "colab_type": "text"
      },
      "source": [
        "**Set Training dan Testing Data**"
      ]
    },
    {
      "cell_type": "code",
      "metadata": {
        "id": "qPQUGxZ50w16",
        "colab_type": "code",
        "colab": {}
      },
      "source": [
        "# Set Training and Testing Data (70:30)\n",
        "from sklearn.model_selection import train_test_split, cross_val_score\n",
        "feature_train, feature_test, target_train, target_test = train_test_split(df_bot_feature , target, shuffle = True, test_size=0.3, random_state=1)\n",
        "\n",
        "# Show the Training and Testing Data\n",
        "print(feature_train.shape)\n",
        "print(feature_test.shape)\n",
        "print(target_train.shape)\n",
        "print(target_test.shape)"
      ],
      "execution_count": 0,
      "outputs": []
    },
    {
      "cell_type": "markdown",
      "metadata": {
        "id": "RrF4WXY-MoWv",
        "colab_type": "text"
      },
      "source": [
        "**Contruct Decision Tree Classifier**"
      ]
    },
    {
      "cell_type": "code",
      "metadata": {
        "id": "ZCLKlJOe1M2j",
        "colab_type": "code",
        "colab": {}
      },
      "source": [
        "# Import library\n",
        "from sklearn import tree\n",
        "\n",
        "# Train Decision Tree\n",
        "dtree = tree.DecisionTreeClassifier(min_impurity_decrease=0.01)\n",
        "dtree.fit(feature_train, target_train)"
      ],
      "execution_count": 0,
      "outputs": []
    },
    {
      "cell_type": "code",
      "metadata": {
        "id": "6QJrBgZGyp-0",
        "colab_type": "code",
        "colab": {}
      },
      "source": [
        "# Visualize Tree\n",
        "\n",
        "from sklearn.externals.six import StringIO  \n",
        "from IPython.display import Image  \n",
        "from sklearn.tree import export_graphviz\n",
        "import pydotplus\n",
        "dot_data = StringIO()\n",
        "export_graphviz(dtree, out_file=dot_data,  \n",
        "                filled=True, rounded=True,\n",
        "                special_characters=True,\n",
        "                class_names=['nonbot','bot'],\n",
        "                feature_names=['folowers', 'friends', 'listed', 'favourites', 'statuses', 'verified'])\n",
        "graph = pydotplus.graph_from_dot_data(dot_data.getvalue())  \n",
        "Image(graph.create_png())"
      ],
      "execution_count": 0,
      "outputs": []
    },
    {
      "cell_type": "code",
      "metadata": {
        "id": "8bZQobi10xhd",
        "colab_type": "code",
        "colab": {}
      },
      "source": [
        "# Predict to Test Data \n",
        "target_predicted = dtree.predict(feature_test)\n",
        "target_predicted"
      ],
      "execution_count": 0,
      "outputs": []
    },
    {
      "cell_type": "markdown",
      "metadata": {
        "id": "9UkMgpRgMvwK",
        "colab_type": "text"
      },
      "source": [
        "**Search for the Tree Accuration**"
      ]
    },
    {
      "cell_type": "code",
      "metadata": {
        "id": "z-Yx0z_j1dKm",
        "colab_type": "code",
        "colab": {}
      },
      "source": [
        "from sklearn.metrics import confusion_matrix\n",
        "from sklearn.metrics import accuracy_score\n",
        "from sklearn.metrics import classification_report\n",
        "\n",
        "results = confusion_matrix(target_test, target_predicted)\n",
        "print ('Confusion Matrix :')\n",
        "print (results)\n",
        "print ('Accuracy Score :',accuracy_score(target_test, target_predicted))\n",
        "print ('Classification Report : ')\n",
        "print (classification_report(target_test, target_predicted))"
      ],
      "execution_count": 0,
      "outputs": []
    },
    {
      "cell_type": "code",
      "metadata": {
        "id": "MgDolU572PvH",
        "colab_type": "code",
        "colab": {}
      },
      "source": [
        "# Import Visualization Package\n",
        "plt.rcParams['figure.figsize'] = (10, 10)\n",
        "plt.style.use('ggplot')\n",
        "\n",
        "# Visualize ROC Curve\n",
        "target_predicted_prob = dtree.predict_proba(feature_test)[::,1]\n",
        "fp_rate, tp_rate, _ = metrics.roc_curve(target_test,  target_predicted_prob)\n",
        "auc = metrics.roc_auc_score(target_test, target_predicted_prob)\n",
        "plt.plot(fp_rate, tp_rate, label=\"Decision Tree, auc=\"+str(auc))\n",
        "plt.xlabel('false positive rate') \n",
        "plt.ylabel('true positive rate')\n",
        "plt.legend(loc=4)\n",
        "plt.show()"
      ],
      "execution_count": 0,
      "outputs": []
    },
    {
      "cell_type": "markdown",
      "metadata": {
        "id": "xr-aEAOqS9CN",
        "colab_type": "text"
      },
      "source": [
        "## b.Detecting New Data"
      ]
    },
    {
      "cell_type": "markdown",
      "metadata": {
        "id": "PljNLC0JNA4E",
        "colab_type": "text"
      },
      "source": [
        "**Define Model**"
      ]
    },
    {
      "cell_type": "code",
      "metadata": {
        "id": "nVMDPxWx3tHy",
        "colab_type": "code",
        "colab": {}
      },
      "source": [
        "X = feature_train.values\n",
        "Y = target_train.values\n",
        "predbot = dtree.fit(X, Y)\n",
        "predbot"
      ],
      "execution_count": 0,
      "outputs": []
    },
    {
      "cell_type": "markdown",
      "metadata": {
        "id": "pVqughstNCfO",
        "colab_type": "text"
      },
      "source": [
        "**Import New Dataset with Unknown Class**"
      ]
    },
    {
      "cell_type": "code",
      "metadata": {
        "id": "FpoI6YgL5O2v",
        "colab_type": "code",
        "colab": {}
      },
      "source": [
        "# Import New Dataset\n",
        "df_new = pd.read_csv('https://raw.githubusercontent.com/rcdbe/sma-online/master/day-2/python/data/new_data.csv', sep =';', encoding=\"utf-8\")\n",
        "df_new.head()"
      ],
      "execution_count": 0,
      "outputs": []
    },
    {
      "cell_type": "code",
      "metadata": {
        "id": "zzww591N5Ve0",
        "colab_type": "code",
        "colab": {}
      },
      "source": [
        "# Select Required Columns\n",
        "df_new_feature = df_new[['followers_count',\n",
        "                          'friends_count',\n",
        "                          'listed_count',\n",
        "                          'favourites_count',\n",
        "                          'statuses_count',\n",
        "                          'verified']]\n",
        "df_new_feature.head()"
      ],
      "execution_count": 0,
      "outputs": []
    },
    {
      "cell_type": "code",
      "metadata": {
        "id": "6NkYLq-aKrsV",
        "colab_type": "code",
        "colab": {}
      },
      "source": [
        "df_new_feature[\"verified\"] = df_new_feature[\"verified\"].astype('category')\n",
        "df_new_feature[\"verified\"] = df_new_feature[\"verified\"].cat.codes\n",
        "df_new_feature"
      ],
      "execution_count": 0,
      "outputs": []
    },
    {
      "cell_type": "markdown",
      "metadata": {
        "id": "XmjDst2sNYFg",
        "colab_type": "text"
      },
      "source": [
        "**Predict New Data**"
      ]
    },
    {
      "cell_type": "code",
      "metadata": {
        "id": "2bR-2DUS5NJS",
        "colab_type": "code",
        "colab": {}
      },
      "source": [
        "# Predict New Data\n",
        "df_new_prediction = pd.DataFrame(dtree.predict(df_new_feature), columns = ['predicted_bot'])\n",
        "df_new_prediction.reset_index()\n",
        "df_new_prediction.head()"
      ],
      "execution_count": 0,
      "outputs": []
    },
    {
      "cell_type": "markdown",
      "metadata": {
        "id": "m0KG7sr-Na6j",
        "colab_type": "text"
      },
      "source": [
        "**Show Prediction Result**"
      ]
    },
    {
      "cell_type": "code",
      "metadata": {
        "id": "iBWEuWB49FJG",
        "colab_type": "code",
        "colab": {}
      },
      "source": [
        "# Show Prediction Result\n",
        "pred_result = pd.concat([df_new, df_new_prediction], axis=1)\n",
        "pred_result.head()"
      ],
      "execution_count": 0,
      "outputs": []
    },
    {
      "cell_type": "code",
      "metadata": {
        "id": "PPLW_DOjHtzt",
        "colab_type": "code",
        "colab": {}
      },
      "source": [
        "# Save Prediction Result\n",
        "pred_result.to_csv('bot_prediction.csv', index=False)"
      ],
      "execution_count": 0,
      "outputs": []
    }
  ]
}