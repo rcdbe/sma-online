{
  "nbformat": 4,
  "nbformat_minor": 0,
  "metadata": {
    "colab": {
      "name": "Text_Preprocessing_New.ipynb",
      "provenance": [],
      "collapsed_sections": [],
      "toc_visible": true,
      "include_colab_link": true
    },
    "kernelspec": {
      "display_name": "Python 3",
      "language": "python",
      "name": "python3"
    },
    "language_info": {
      "codemirror_mode": {
        "name": "ipython",
        "version": 3
      },
      "file_extension": ".py",
      "mimetype": "text/x-python",
      "name": "python",
      "nbconvert_exporter": "python",
      "pygments_lexer": "ipython3",
      "version": "3.7.1"
    }
  },
  "cells": [
    {
      "cell_type": "markdown",
      "metadata": {
        "id": "view-in-github",
        "colab_type": "text"
      },
      "source": [
        "<a href=\"https://colab.research.google.com/github/rcdbe/sma-online/blob/master/Day%201/python/Text_Preprocessing_New.ipynb\" target=\"_parent\"><img src=\"https://colab.research.google.com/assets/colab-badge.svg\" alt=\"Open In Colab\"/></a>"
      ]
    },
    {
      "cell_type": "markdown",
      "metadata": {
        "colab_type": "text",
        "id": "ITA7F96h3Jet"
      },
      "source": [
        "# Text Mining"
      ]
    },
    {
      "cell_type": "markdown",
      "metadata": {
        "colab_type": "text",
        "id": "M4Weq4-cVk0i"
      },
      "source": [
        "Text mining is a process of exploring sizeable textual data and find patterns. Text Mining process the text itself. Finding frequency counts of words, length of the sentence, presence/absence of specific words is known as text mining. \n",
        "\n",
        "Natural language processing is one of the components of text mining. NLP helps identified sentiment, finding entities in the sentence, and category of blog/article. Text mining is preprocessed data for text analytics. In Text Analytics, statistical and machine learning algorithm used to classify information."
      ]
    },
    {
      "cell_type": "code",
      "metadata": {
        "colab_type": "code",
        "id": "Who5fcwfvaIn",
        "colab": {}
      },
      "source": [
        "# Install Library\n",
        "!pip install nltk"
      ],
      "execution_count": 0,
      "outputs": []
    },
    {
      "cell_type": "markdown",
      "metadata": {
        "colab_type": "text",
        "id": "-XTF7_OkUyRH"
      },
      "source": [
        "NLTK is a powerful Python package that provides a set of diverse natural languages algorithms. It is free, opensource, easy to use, large community, and well documented. NLTK consists of the most common algorithms such as tokenizing, part-of-speech tagging, stemming, sentiment analysis, topic segmentation, and named entity recognition. NLTK helps the computer to analysis, preprocess, and understand the written text."
      ]
    },
    {
      "cell_type": "code",
      "metadata": {
        "colab_type": "code",
        "id": "25jtxy_RUj7W",
        "colab": {}
      },
      "source": [
        "# Import Library\n",
        "import nltk\n",
        "nltk.download('punkt') # Sentence Tokenizer\n",
        "nltk.download('stopwords') # Stopword\n",
        "nltk.download('wordnet') # Wordnet Dictionary for Lemmatization"
      ],
      "execution_count": 0,
      "outputs": []
    },
    {
      "cell_type": "markdown",
      "metadata": {
        "colab_type": "text",
        "id": "hAgHK0Mnf1wv"
      },
      "source": [
        "## Text Pre-Processing"
      ]
    },
    {
      "cell_type": "markdown",
      "metadata": {
        "colab_type": "text",
        "id": "OfIO62ScWbXt"
      },
      "source": [
        "Text preprocessing is traditionally an important step for natural language processing (NLP) tasks. It transforms text into a more digestible form so that machine learning algorithms can perform better."
      ]
    },
    {
      "cell_type": "markdown",
      "metadata": {
        "colab_type": "text",
        "id": "0UpC2JolU_jY"
      },
      "source": [
        "###**1. English Text Pre-Processing**"
      ]
    },
    {
      "cell_type": "markdown",
      "metadata": {
        "colab_type": "text",
        "id": "EhCoryR1V1i6"
      },
      "source": [
        "Here we preprocess the simple word below."
      ]
    },
    {
      "cell_type": "code",
      "metadata": {
        "colab_type": "code",
        "id": "VGSkSUS1Vzk6",
        "colab": {}
      },
      "source": [
        "# Input English Text\n",
        "text_en = 'Coronavirus patients given a three-drug cocktail got better more quickly, Hong Kong researchers reported.'\n",
        "text_en"
      ],
      "execution_count": 0,
      "outputs": []
    },
    {
      "cell_type": "markdown",
      "metadata": {
        "colab_type": "text",
        "id": "edMbDC4odWqs"
      },
      "source": [
        "##### **a. Remove Symbol and Character**"
      ]
    },
    {
      "cell_type": "markdown",
      "metadata": {
        "colab_type": "text",
        "id": "JHpObEQaZH5B"
      },
      "source": [
        "Remove symbol and character from the text"
      ]
    },
    {
      "cell_type": "code",
      "metadata": {
        "colab_type": "code",
        "id": "LtSNnHuAdb3d",
        "colab": {}
      },
      "source": [
        "# Import Library\n",
        "import string \n",
        "\n",
        "# Remove Symbol and Character\n",
        "text_en_nosymbol = text_en.translate(str.maketrans('','',string.punctuation)).lower()\n",
        "text_en_nosymbol"
      ],
      "execution_count": 0,
      "outputs": []
    },
    {
      "cell_type": "markdown",
      "metadata": {
        "colab_type": "text",
        "id": "n1_uwT7EVk8S"
      },
      "source": [
        "##### **b. Tokenization**"
      ]
    },
    {
      "cell_type": "markdown",
      "metadata": {
        "colab_type": "text",
        "id": "NRE7Yd8rWqSc"
      },
      "source": [
        "Tokenization is the process of breaking a document down into words, punctuation marks, numeric digits, etc. We can do sentence tokenization and word tokenization."
      ]
    },
    {
      "cell_type": "markdown",
      "metadata": {
        "colab_type": "text",
        "id": "JHnq0MPJZbbZ"
      },
      "source": [
        "Sentence Tokenization"
      ]
    },
    {
      "cell_type": "code",
      "metadata": {
        "colab_type": "code",
        "id": "TI9U7NG9U1TS",
        "colab": {}
      },
      "source": [
        "# Import Module \n",
        "from nltk.tokenize import sent_tokenize\n",
        "\n",
        "# Tokenize Sentence\n",
        "text_en_tokenizeds =sent_tokenize(text_en_nosymbol)\n",
        "\n",
        "# Show Tokenized Sentence\n",
        "text_en_tokenizeds"
      ],
      "execution_count": 0,
      "outputs": []
    },
    {
      "cell_type": "markdown",
      "metadata": {
        "colab_type": "text",
        "id": "Qp7cNx3CZe6f"
      },
      "source": [
        "Word Tokenization"
      ]
    },
    {
      "cell_type": "code",
      "metadata": {
        "colab_type": "code",
        "id": "YX-ym7GSVkjx",
        "colab": {}
      },
      "source": [
        "# Word Tokenization\n",
        "\n",
        "# Import Module\n",
        "from nltk.tokenize import word_tokenize\n",
        "\n",
        "# Tokenize Word\n",
        "text_en_tokenizedw = word_tokenize(text_en_nosymbol)\n",
        "\n",
        "# Show Tokenized Sentence\n",
        "text_en_tokenizedw"
      ],
      "execution_count": 0,
      "outputs": []
    },
    {
      "cell_type": "markdown",
      "metadata": {
        "colab_type": "text",
        "id": "ppeneYMaWb4P"
      },
      "source": [
        "##### **c. Remove Stopword**"
      ]
    },
    {
      "cell_type": "markdown",
      "metadata": {
        "colab_type": "text",
        "id": "Pg-j7uhaaPsW"
      },
      "source": [
        "Though \"stop words\" usually refers to the most common words in a language. For some search engines, these are some of the most common, short function words, such as the, is, at, which, and on. In this case, stop words can cause problems when searching for phrases that include them, particularly in names such as \"The Who\", \"The The\", or \"Take That\"."
      ]
    },
    {
      "cell_type": "code",
      "metadata": {
        "colab_type": "code",
        "id": "p6pW7G7wXEle",
        "colab": {}
      },
      "source": [
        "# Download English Stopwords from NLTK\n",
        "from nltk.corpus import stopwords\n",
        "\n",
        "# Show Stopwords\n",
        "stopwords_en = nltk.corpus.stopwords.words('english')\n",
        "stopwords_en"
      ],
      "execution_count": 0,
      "outputs": []
    },
    {
      "cell_type": "code",
      "metadata": {
        "colab_type": "code",
        "id": "LTOto8ctW3-6",
        "colab": {}
      },
      "source": [
        "# Removing Stopwords\n",
        "text_en_filtered =[]\n",
        "for w in text_en_tokenizedw:\n",
        "    if w not in stopwords_en:\n",
        "        text_en_filtered.append(w)\n",
        "\n",
        "# Show Tokenized vs Filtered\n",
        "print('Tokenized:',text_en_tokenizedw)\n",
        "print('Filtered:',text_en_filtered)"
      ],
      "execution_count": 0,
      "outputs": []
    },
    {
      "cell_type": "markdown",
      "metadata": {
        "colab_type": "text",
        "id": "M3rd6uyoW_xP"
      },
      "source": [
        "##### **d. Text Normalization**"
      ]
    },
    {
      "cell_type": "markdown",
      "metadata": {
        "colab_type": "text",
        "id": "w-Lqx79cWwAF"
      },
      "source": [
        "Text normalization considers another type of noise in the text. For example connection, connected, connecting word reduce to a common word \"connect\". It reduces derivationally related forms of a word to a common root word.\n",
        "\n",
        "Stemming and Lemmatization are Text Normalization (or sometimes called Word Normalization) techniques in the field of Natural Language Processing that are used to prepare text, words, and documents for further processing. "
      ]
    },
    {
      "cell_type": "markdown",
      "metadata": {
        "colab_type": "text",
        "id": "nfjzKWT7bf9S"
      },
      "source": [
        "***Stemming***"
      ]
    },
    {
      "cell_type": "markdown",
      "metadata": {
        "colab_type": "text",
        "id": "ecmB7mfnbhzW"
      },
      "source": [
        "Stemming is the process of reducing inflected (or sometimes derived) words to their word stem, base or root form—generally a written word form. Example : consulting -> consult, parties -> parti"
      ]
    },
    {
      "cell_type": "code",
      "metadata": {
        "colab_type": "code",
        "id": "pBVajLjzXNlD",
        "colab": {}
      },
      "source": [
        "# Import Modules\n",
        "from nltk.stem import PorterStemmer\n",
        "from nltk.tokenize import sent_tokenize, word_tokenize\n",
        "\n",
        "# Set Stemming Function\n",
        "stemmer = PorterStemmer()\n",
        "text_en_stemmed =[]\n",
        "for i in text_en_filtered:\n",
        "    text_en_stemmed.append(stemmer.stem(i))\n",
        "\n",
        "# Show\n",
        "print('Filtered:',text_en_filtered)\n",
        "print('Stemmed:',text_en_stemmed)"
      ],
      "execution_count": 0,
      "outputs": []
    },
    {
      "cell_type": "markdown",
      "metadata": {
        "colab_type": "text",
        "id": "ynqS0q87eN2W"
      },
      "source": [
        "***Lemmatization***"
      ]
    },
    {
      "cell_type": "markdown",
      "metadata": {
        "colab_type": "text",
        "id": "9oTTpa9eeCVR"
      },
      "source": [
        "Lemmatization, unlike Stemming, reduces the inflected words properly ensuring that the root word belongs to the language. Example : best -> good, parti -> party"
      ]
    },
    {
      "cell_type": "markdown",
      "metadata": {
        "colab_type": "text",
        "id": "0rER-92If1gU"
      },
      "source": [
        "*Lemmatizing with Adjective denotation*"
      ]
    },
    {
      "cell_type": "code",
      "metadata": {
        "colab_type": "code",
        "id": "31z9spWrXO3y",
        "colab": {}
      },
      "source": [
        "# Import Modules\n",
        "from nltk.stem.wordnet import WordNetLemmatizer\n",
        "\n",
        "# Set Lemmatization Function\n",
        "lemmatizer = WordNetLemmatizer()\n",
        "text_en_lemmatized1 =[]\n",
        "for i in text_en_filtered:\n",
        "    text_en_lemmatized1.append(lemmatizer.lemmatize(i, pos='a'))\n",
        "\n",
        "# Show\n",
        "print('Stemmed:',text_en_stemmed)\n",
        "print('Lemmatized:',text_en_lemmatized1)"
      ],
      "execution_count": 0,
      "outputs": []
    },
    {
      "cell_type": "markdown",
      "metadata": {
        "colab_type": "text",
        "id": "B4apnrXOgnq4"
      },
      "source": [
        "*Lemmatizing the text with Verb denotation*"
      ]
    },
    {
      "cell_type": "code",
      "metadata": {
        "colab_type": "code",
        "id": "dTuiiPgzYbJH",
        "colab": {}
      },
      "source": [
        "# Import Modules\n",
        "from nltk.stem import WordNetLemmatizer\n",
        "from nltk.corpus import wordnet\n",
        "\n",
        "# Set Lemmatization Function\n",
        "lemmatizer = nltk.WordNetLemmatizer()\n",
        "text_en_lemmatized2 = [lemmatizer.lemmatize(i, pos='v') for i in text_en_lemmatized1]\n",
        "\n",
        "# Show\n",
        "print('Lemmatized', text_en_lemmatized2)"
      ],
      "execution_count": 0,
      "outputs": []
    },
    {
      "cell_type": "markdown",
      "metadata": {
        "colab_type": "text",
        "id": "hV1xR3dqzHql"
      },
      "source": [
        "*Lemmatizing the text with Noun denotation*"
      ]
    },
    {
      "cell_type": "code",
      "metadata": {
        "colab_type": "code",
        "id": "APWSjWtMzJ3d",
        "colab": {}
      },
      "source": [
        "# Import Modules\n",
        "from nltk.stem import WordNetLemmatizer\n",
        "from nltk.corpus import wordnet\n",
        "\n",
        "# Set Lemmatization Function\n",
        "lemmatizer = nltk.WordNetLemmatizer()\n",
        "text_en_lemmatized3 = [lemmatizer.lemmatize(i, pos='n') for i in text_en_lemmatized2]\n",
        "\n",
        "# Show\n",
        "print('Lemmatized', text_en_lemmatized3)"
      ],
      "execution_count": 0,
      "outputs": []
    },
    {
      "cell_type": "markdown",
      "metadata": {
        "colab_type": "text",
        "id": "EhhRhfb8iRTM"
      },
      "source": [
        "### **2. Indonesian Text Preprocessing**"
      ]
    },
    {
      "cell_type": "code",
      "metadata": {
        "colab_type": "code",
        "id": "mNp-GXcTiZD1",
        "colab": {}
      },
      "source": [
        "# Input Text (Indonesia)\n",
        "text_id = 'Rakyat memenuhi halaman gedung untuk menyuarakan isi hatinya kepada pemerintah pada tanggal 9 - maret - 2020.'\n",
        "text_id"
      ],
      "execution_count": 0,
      "outputs": []
    },
    {
      "cell_type": "markdown",
      "metadata": {
        "colab_type": "text",
        "id": "1SP_84VmkPNF"
      },
      "source": [
        "##### **a. Remove Symbol and Character**"
      ]
    },
    {
      "cell_type": "code",
      "metadata": {
        "colab_type": "code",
        "id": "A3fs7LR2izRf",
        "colab": {}
      },
      "source": [
        "# Import Library\n",
        "import string \n",
        "\n",
        "# Remove Symbol\n",
        "text_id_nosymbol = text_id.translate(str.maketrans('','',string.punctuation)).lower()\n",
        "text_id_nosymbol"
      ],
      "execution_count": 0,
      "outputs": []
    },
    {
      "cell_type": "markdown",
      "metadata": {
        "colab_type": "text",
        "id": "vRJ4-WQQkKM1"
      },
      "source": [
        "##### **b. Word Tokenization**"
      ]
    },
    {
      "cell_type": "code",
      "metadata": {
        "colab_type": "code",
        "id": "04qa0z5qicTl",
        "colab": {}
      },
      "source": [
        "# Import Module\n",
        "from nltk.tokenize import word_tokenize\n",
        "\n",
        "# Tokenize Word\n",
        "text_id_tokenized = word_tokenize(text_id_nosymbol)\n",
        "\n",
        "# Show\n",
        "text_id_tokenized"
      ],
      "execution_count": 0,
      "outputs": []
    },
    {
      "cell_type": "markdown",
      "metadata": {
        "colab_type": "text",
        "id": "MS_VlVzPkULw"
      },
      "source": [
        "##### **c. Remove Stopword**"
      ]
    },
    {
      "cell_type": "code",
      "metadata": {
        "colab_type": "code",
        "id": "Cx5RJb6wjeo2",
        "colab": {}
      },
      "source": [
        "# Download Indonesian Stopword\n",
        "stopwords_id = nltk.corpus.stopwords.words('indonesian')\n",
        "\n",
        "# Show Stopwords\n",
        "stopwords_id"
      ],
      "execution_count": 0,
      "outputs": []
    },
    {
      "cell_type": "code",
      "metadata": {
        "colab_type": "code",
        "id": "m4zPeY7LjQGX",
        "colab": {}
      },
      "source": [
        "# Removing Stopword\n",
        "text_id_filtered = []\n",
        "for w in text_id_tokenized:\n",
        "    if w not in stopwords_id:\n",
        "        text_id_filtered.append(w)\n",
        "\n",
        "# Show\n",
        "print('Tokenized:',text_id_tokenized)\n",
        "print('Filtered:',text_id_filtered)"
      ],
      "execution_count": 0,
      "outputs": []
    },
    {
      "cell_type": "markdown",
      "metadata": {
        "colab_type": "text",
        "id": "FE_s53fxkjrd"
      },
      "source": [
        "##### **d. Text Normalization**"
      ]
    },
    {
      "cell_type": "code",
      "metadata": {
        "colab_type": "code",
        "id": "iqPXepEyJ66y",
        "colab": {}
      },
      "source": [
        "# Install Library for Text Normalization\n",
        "! pip install sastrawi"
      ],
      "execution_count": 0,
      "outputs": []
    },
    {
      "cell_type": "code",
      "metadata": {
        "colab_type": "code",
        "id": "FeRIjvSDKCW8",
        "colab": {}
      },
      "source": [
        "# Import Library\n",
        "import re"
      ],
      "execution_count": 0,
      "outputs": []
    },
    {
      "cell_type": "markdown",
      "metadata": {
        "colab_type": "text",
        "id": "lr2MTopokDr2"
      },
      "source": [
        "***Stemming***"
      ]
    },
    {
      "cell_type": "code",
      "metadata": {
        "colab_type": "code",
        "id": "WZFKF1PeKGK3",
        "colab": {}
      },
      "source": [
        "# Import Module\n",
        "from Sastrawi.Stemmer.StemmerFactory import StemmerFactory\n",
        "from nltk.tokenize.treebank import TreebankWordDetokenizer\n",
        "\n",
        "# Create Stemmer Function\n",
        "stemmer_id = StemmerFactory().create_stemmer()\n",
        "text_id_stemmed = [stemmer_id.stem(i) for i in text_id_filtered]\n",
        "\n",
        "# Show\n",
        "print('Filtered:', text_id_filtered)\n",
        "print('Stemmed:', text_id_stemmed)"
      ],
      "execution_count": 0,
      "outputs": []
    }
  ]
}