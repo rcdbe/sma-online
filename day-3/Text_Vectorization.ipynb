{
  "nbformat": 4,
  "nbformat_minor": 0,
  "metadata": {
    "colab": {
      "name": "Text_Vectorization.ipynb",
      "provenance": [],
      "include_colab_link": true
    },
    "kernelspec": {
      "name": "python3",
      "display_name": "Python 3"
    }
  },
  "cells": [
    {
      "cell_type": "markdown",
      "metadata": {
        "id": "view-in-github",
        "colab_type": "text"
      },
      "source": [
        "<a href=\"https://colab.research.google.com/github/rcdbe/sma-online/blob/master/day-3/Text_Vectorization.ipynb\" target=\"_parent\"><img src=\"https://colab.research.google.com/assets/colab-badge.svg\" alt=\"Open In Colab\"/></a>"
      ]
    },
    {
      "cell_type": "markdown",
      "metadata": {
        "id": "l8hi_06FvuFL",
        "colab_type": "text"
      },
      "source": [
        "# Text Vectorization"
      ]
    },
    {
      "cell_type": "markdown",
      "metadata": {
        "id": "1kfLSJYotmp8",
        "colab_type": "text"
      },
      "source": [
        "## Count Vectorization"
      ]
    },
    {
      "cell_type": "code",
      "metadata": {
        "id": "UPGwrei9ptps",
        "colab_type": "code",
        "colab": {}
      },
      "source": [
        "import sklearn"
      ],
      "execution_count": 0,
      "outputs": []
    },
    {
      "cell_type": "code",
      "metadata": {
        "id": "qPKytIviqDnK",
        "colab_type": "code",
        "colab": {}
      },
      "source": [
        "from sklearn.feature_extraction.text import CountVectorizer"
      ],
      "execution_count": 0,
      "outputs": []
    },
    {
      "cell_type": "code",
      "metadata": {
        "id": "YPYh7SayqP4y",
        "colab_type": "code",
        "colab": {}
      },
      "source": [
        "train_text =[\"aku suka kamu\", \"kamu aku gak suka aku\"]"
      ],
      "execution_count": 0,
      "outputs": []
    },
    {
      "cell_type": "code",
      "metadata": {
        "id": "5qHmdJpPqZe9",
        "colab_type": "code",
        "colab": {}
      },
      "source": [
        "count_vectorizer = CountVectorizer()"
      ],
      "execution_count": 0,
      "outputs": []
    },
    {
      "cell_type": "code",
      "metadata": {
        "id": "c76orWJdquQa",
        "colab_type": "code",
        "colab": {}
      },
      "source": [
        "count_vectorizer.fit(train_text)"
      ],
      "execution_count": 0,
      "outputs": []
    },
    {
      "cell_type": "code",
      "metadata": {
        "id": "wsee9W3-q0Dy",
        "colab_type": "code",
        "colab": {}
      },
      "source": [
        "count_vectorizer.vocabulary_"
      ],
      "execution_count": 0,
      "outputs": []
    },
    {
      "cell_type": "code",
      "metadata": {
        "id": "LxZbVpdorCkF",
        "colab_type": "code",
        "colab": {}
      },
      "source": [
        "count_vectorizer.vocabulary_.get('suka')"
      ],
      "execution_count": 0,
      "outputs": []
    },
    {
      "cell_type": "code",
      "metadata": {
        "id": "y2rX84mWrZdi",
        "colab_type": "code",
        "colab": {}
      },
      "source": [
        "transformed_vector = count_vectorizer.transform(train_text)"
      ],
      "execution_count": 0,
      "outputs": []
    },
    {
      "cell_type": "code",
      "metadata": {
        "id": "MB7Qjq4jr2R4",
        "colab_type": "code",
        "colab": {}
      },
      "source": [
        "print(transformed_vector.shape)"
      ],
      "execution_count": 0,
      "outputs": []
    },
    {
      "cell_type": "code",
      "metadata": {
        "id": "q8jFosHar85i",
        "colab_type": "code",
        "colab": {}
      },
      "source": [
        "print(transformed_vector.toarray())"
      ],
      "execution_count": 0,
      "outputs": []
    },
    {
      "cell_type": "markdown",
      "metadata": {
        "id": "QDB7KDd3ttZH",
        "colab_type": "text"
      },
      "source": [
        "## TF-IDF Vectorizer"
      ]
    },
    {
      "cell_type": "code",
      "metadata": {
        "id": "8Q9FgcmbtvK1",
        "colab_type": "code",
        "colab": {}
      },
      "source": [
        "from sklearn.feature_extraction.text import TfidfVectorizer\n",
        "\n",
        "tfidf_vectorizer = TfidfVectorizer()"
      ],
      "execution_count": 0,
      "outputs": []
    },
    {
      "cell_type": "code",
      "metadata": {
        "id": "xETL5t8Xtwg-",
        "colab_type": "code",
        "colab": {}
      },
      "source": [
        "tfidf_vector = tfidf_vectorizer.fit_transform(train_text)\n",
        "\n",
        "tfidf_vectorizer.vocabulary_"
      ],
      "execution_count": 0,
      "outputs": []
    },
    {
      "cell_type": "code",
      "metadata": {
        "id": "SAvE4OUoucVs",
        "colab_type": "code",
        "colab": {}
      },
      "source": [
        "tfidf_vector.shape"
      ],
      "execution_count": 0,
      "outputs": []
    },
    {
      "cell_type": "code",
      "metadata": {
        "id": "-oDc60wouqlO",
        "colab_type": "code",
        "colab": {}
      },
      "source": [
        "tfidf_vector.toarray()"
      ],
      "execution_count": 0,
      "outputs": []
    },
    {
      "cell_type": "code",
      "metadata": {
        "id": "Qr-JDHM9vXzj",
        "colab_type": "code",
        "colab": {}
      },
      "source": [
        "tfidf_vectorizer.idf_"
      ],
      "execution_count": 0,
      "outputs": []
    },
    {
      "cell_type": "code",
      "metadata": {
        "id": "Zh8nvUJau6Dq",
        "colab_type": "code",
        "colab": {}
      },
      "source": [
        "dict(zip(tfidf_vectorizer.get_feature_names(), tfidf_vectorizer.idf_))"
      ],
      "execution_count": 0,
      "outputs": []
    }
  ]
}