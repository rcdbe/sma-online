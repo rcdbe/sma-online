{
  "nbformat": 4,
  "nbformat_minor": 0,
  "metadata": {
    "colab": {
      "name": "social_network_analysis.ipynb",
      "provenance": [],
      "collapsed_sections": [],
      "toc_visible": true
    },
    "kernelspec": {
      "name": "python3",
      "display_name": "Python 3"
    }
  },
  "cells": [
    {
      "cell_type": "markdown",
      "metadata": {
        "id": "OiZniJ88AcHH",
        "colab_type": "text"
      },
      "source": [
        "#Social Network Analysis"
      ]
    },
    {
      "cell_type": "markdown",
      "metadata": {
        "id": "DXKbtyB8KIZP",
        "colab_type": "text"
      },
      "source": [
        "Network theory is the study of graphs as a representation of either symmetric relations or asymmetric relations between discrete objects. In computer science and network science, network theory is a part of graph theory: a network can be defined as a graph in which nodes and/or edges have attributes (e.g. names).\n",
        "\n",
        "Social network analysis (SNA) is the process of investigating social structures through the use of networks and graph theory. It characterizes networked structures in terms of nodes (individual actors, people, or things within the network) and the ties, edges, or links (relationships or interactions) that connect them."
      ]
    },
    {
      "cell_type": "markdown",
      "metadata": {
        "id": "PQhsmBwSKxl3",
        "colab_type": "text"
      },
      "source": [
        "In this prcatice we will use NetworkX. NetworkX is a Python package for the creation, manipulation, and study of the structure, dynamics, and functions of complex networks. You can see the full documentation of NetworkX HERE"
      ]
    },
    {
      "cell_type": "markdown",
      "metadata": {
        "id": "ajIRyYeAW9lq",
        "colab_type": "text"
      },
      "source": [
        "**Install & Import Libraries**"
      ]
    },
    {
      "cell_type": "code",
      "metadata": {
        "id": "iv2l0EPlXXLK",
        "colab_type": "code",
        "colab": {}
      },
      "source": [
        "# Import Libraries\n",
        "import pandas as pd\n",
        "import matplotlib.pyplot as plt\n",
        "import networkx as nx\n",
        "import community\n",
        "import seaborn as sns"
      ],
      "execution_count": 0,
      "outputs": []
    },
    {
      "cell_type": "markdown",
      "metadata": {
        "id": "LBY920BBAhKW",
        "colab_type": "text"
      },
      "source": [
        "## a.Network Construction"
      ]
    },
    {
      "cell_type": "markdown",
      "metadata": {
        "id": "qQBKbxKmTfYw",
        "colab_type": "text"
      },
      "source": [
        "Here we construct a social network based on conversations about 'Pemilihan umum Gubernur DKI Jakarta 2017' on Twitter."
      ]
    },
    {
      "cell_type": "markdown",
      "metadata": {
        "id": "Yb8Q4cX8IqIv",
        "colab_type": "text"
      },
      "source": [
        "**Import Data**"
      ]
    },
    {
      "cell_type": "code",
      "metadata": {
        "id": "R9Saf4RFIout",
        "colab_type": "code",
        "colab": {}
      },
      "source": [
        "# Import Data\n",
        "df_paslon1 = pd.read_csv('https://raw.githubusercontent.com/dianrdn/data/master/paslon_1_reduced.csv')\n",
        "df_paslon2 = pd.read_csv('https://raw.githubusercontent.com/dianrdn/data/master/paslon_2_reduced.csv')\n",
        "df_paslon3 = pd.read_csv('https://raw.githubusercontent.com/dianrdn/data/master/paslon_3_reduced.csv')\n",
        "\n",
        "# Show Data\n",
        "df_paslon1"
      ],
      "execution_count": 0,
      "outputs": []
    },
    {
      "cell_type": "markdown",
      "metadata": {
        "id": "L9MLNkEJBFZx",
        "colab_type": "text"
      },
      "source": [
        "**Construct an Edge List**"
      ]
    },
    {
      "cell_type": "code",
      "metadata": {
        "id": "U3YHPyYtpi5d",
        "colab_type": "code",
        "colab": {}
      },
      "source": [
        "# Select Columns and Create an Edge List\n",
        "df_network1 = df_paslon1[['source', 'target']]\n",
        "df_network2 = df_paslon2[['source', 'target']]\n",
        "df_network3 = df_paslon3[['source', 'target']]\n",
        "\n",
        "# Show Edgelist\n",
        "df_network1"
      ],
      "execution_count": 0,
      "outputs": []
    },
    {
      "cell_type": "code",
      "metadata": {
        "id": "D_wpQyNb8K83",
        "colab_type": "code",
        "colab": {}
      },
      "source": [
        "# Drop Missing Target from the Edge List\n",
        "df_network1 = df_network1.mask(df_network1.eq('None')).dropna()\n",
        "df_network2 = df_network2.mask(df_network2.eq('None')).dropna()\n",
        "df_network3 = df_network3.mask(df_network3.eq('None')).dropna()\n",
        "\n",
        "# Show Edgelist\n",
        "df_network1"
      ],
      "execution_count": 0,
      "outputs": []
    },
    {
      "cell_type": "markdown",
      "metadata": {
        "id": "ip-ZFlhZkft0",
        "colab_type": "text"
      },
      "source": [
        "**Visualize Network for:**"
      ]
    },
    {
      "cell_type": "markdown",
      "metadata": {
        "id": "SJ7IfpCHkhzD",
        "colab_type": "text"
      },
      "source": [
        "Paslon 1"
      ]
    },
    {
      "cell_type": "code",
      "metadata": {
        "id": "u9XH2HTw07CZ",
        "colab_type": "code",
        "colab": {}
      },
      "source": [
        "# Contstruct a Network\n",
        "G1 = nx.from_pandas_edgelist(df_network1)\n",
        "\n",
        "# Visualize the Network\n",
        "import matplotlib.pyplot as plt\n",
        "plt.figure(figsize=(50,50))\n",
        "nx.draw(G1, with_labels=True, \n",
        "        node_color='skyblue', node_size=1200, \n",
        "        arrowstyle='->',arrowsize=20, edge_color='r',\n",
        "        font_size=9,\n",
        "        pos=nx.kamada_kawai_layout(G1))"
      ],
      "execution_count": 0,
      "outputs": []
    },
    {
      "cell_type": "markdown",
      "metadata": {
        "id": "biuZEMZukjdZ",
        "colab_type": "text"
      },
      "source": [
        "Paslon 2"
      ]
    },
    {
      "cell_type": "code",
      "metadata": {
        "id": "Bs5qKJ_4iRiY",
        "colab_type": "code",
        "colab": {}
      },
      "source": [
        "import networkx as nx\n",
        "# Contstruct a Network\n",
        "G2 = nx.from_pandas_edgelist(df_network2)\n",
        "\n",
        "# Visualize the Network\n",
        "import matplotlib.pyplot as plt\n",
        "plt.figure(figsize=(50,50))\n",
        "nx.draw(G2, with_labels=True, \n",
        "        node_color='skyblue', node_size=1200, \n",
        "        arrowstyle='->',arrowsize=20, edge_color='r',\n",
        "        font_size=9,\n",
        "        pos=nx.kamada_kawai_layout(G2))"
      ],
      "execution_count": 0,
      "outputs": []
    },
    {
      "cell_type": "markdown",
      "metadata": {
        "id": "zwV5XdeFkkum",
        "colab_type": "text"
      },
      "source": [
        "Paslon 3"
      ]
    },
    {
      "cell_type": "code",
      "metadata": {
        "id": "MxQduf4kidJz",
        "colab_type": "code",
        "colab": {}
      },
      "source": [
        "import networkx as nx\n",
        "# Contstruct a Network\n",
        "G3 = nx.from_pandas_edgelist(df_network3)\n",
        "\n",
        "# Visualize the Network\n",
        "import matplotlib.pyplot as plt\n",
        "plt.figure(figsize=(50,50))\n",
        "nx.draw(G3, with_labels=True, \n",
        "        node_color='skyblue', node_size=1200, \n",
        "        arrowstyle='->',arrowsize=20, edge_color='r',\n",
        "        font_size=9,\n",
        "        pos=nx.kamada_kawai_layout(G3))"
      ],
      "execution_count": 0,
      "outputs": []
    },
    {
      "cell_type": "markdown",
      "metadata": {
        "id": "-XibgWnJBoNL",
        "colab_type": "text"
      },
      "source": [
        "## b.Network Metrics and Measurement"
      ]
    },
    {
      "cell_type": "markdown",
      "metadata": {
        "id": "47fv2rgnKShO",
        "colab_type": "text"
      },
      "source": [
        "**Centrality Measurement**"
      ]
    },
    {
      "cell_type": "markdown",
      "metadata": {
        "id": "eonE6ffXKfqU",
        "colab_type": "text"
      },
      "source": [
        "In graph theory and network analysis, indicators of centrality identify the most important vertices within a graph. Applications include identifying the most influential person(s) in a social network, key infrastructure nodes in the Internet or urban networks, and super-spreaders of disease. Centrality concepts were first developed in social network analysis, and many of the terms used to measure centrality reflect their sociological origin."
      ]
    },
    {
      "cell_type": "code",
      "metadata": {
        "id": "qG3tJEkqKVPc",
        "colab_type": "code",
        "colab": {}
      },
      "source": [
        "# Degree Centrality\n",
        "degree = nx.degree_centrality(G1)\n",
        "\n",
        "# Sorted from the Highest\n",
        "sorted(nx.degree(G1), key=lambda x: x[1], reverse=True)[0:10]"
      ],
      "execution_count": 0,
      "outputs": []
    },
    {
      "cell_type": "code",
      "metadata": {
        "id": "88vr0guJOVuz",
        "colab_type": "code",
        "colab": {}
      },
      "source": [
        "# Betweenness Centrality\n",
        "betweenness = nx.betweenness_centrality(G1)\n",
        "\n",
        "# Sorted from the Highest\n",
        "sorted(nx.betweenness_centrality(G1, normalized=True).items(), key=lambda x:x[1], reverse=True)[0:10]"
      ],
      "execution_count": 0,
      "outputs": []
    },
    {
      "cell_type": "code",
      "metadata": {
        "id": "fRKPlKYsPGMx",
        "colab_type": "code",
        "colab": {}
      },
      "source": [
        "# Closeness Centrality\n",
        "closeness = nx.closeness_centrality(G1)\n",
        "\n",
        "# Sorted from the Highest\n",
        "sorted(nx.closeness_centrality(G1).items(), key=lambda x:x[1], reverse=True)[0:10]"
      ],
      "execution_count": 0,
      "outputs": []
    },
    {
      "cell_type": "code",
      "metadata": {
        "id": "1XWM0uLSPdSH",
        "colab_type": "code",
        "colab": {}
      },
      "source": [
        "# Eigenvector Centrality\n",
        "eigenvector = nx.eigenvector_centrality(G1)\n",
        "\n",
        "# Sorted from the Highest\n",
        "sorted(nx.eigenvector_centrality(G1).items(), key=lambda x:x[1], reverse=True)[0:10]"
      ],
      "execution_count": 0,
      "outputs": []
    },
    {
      "cell_type": "markdown",
      "metadata": {
        "id": "3-yP2w-3G_zq",
        "colab_type": "text"
      },
      "source": [
        "Visualize Centrality Score with Scatter Plot"
      ]
    },
    {
      "cell_type": "code",
      "metadata": {
        "id": "1LYwc2FDJXAW",
        "colab_type": "code",
        "colab": {}
      },
      "source": [
        "# Convert Centralities to Data Frame\n",
        "df_degree = pd.Series(degree).to_frame('degree_centrality')\n",
        "df_betweenness = pd.Series(betweenness).to_frame('betweenness_centrality')\n",
        "df_closeness = pd.Series(closeness).to_frame('closeness_centrality')\n",
        "df_eigenvector = pd.Series(eigenvector).to_frame('eigenvector_centrality')\n",
        "\n",
        "# Join Centralities Data Frame\n",
        "df_centrality = pd.concat([df_degree, df_betweenness, df_closeness, df_eigenvector], axis = 1)\n",
        "df_centrality['username'] = df_centrality.index\n",
        "df_centrality = df_centrality.reset_index(drop = True)\n",
        "df_centrality = df_centrality.sort_values(by=['degree_centrality'], ascending = False)\n",
        "df_centrality = df_centrality.melt('username', var_name='cols',  value_name='centrality')\n",
        "df_centrality"
      ],
      "execution_count": 0,
      "outputs": []
    },
    {
      "cell_type": "code",
      "metadata": {
        "id": "ZgjYPQBkDnx4",
        "colab_type": "code",
        "colab": {}
      },
      "source": [
        "# Visualize Scatter Plot\n",
        "plt.figure(figsize=(20,9))\n",
        "sns.scatterplot(x='username', y='centrality', hue='cols', data=df_centrality)"
      ],
      "execution_count": 0,
      "outputs": []
    },
    {
      "cell_type": "markdown",
      "metadata": {
        "id": "RMxWj0m7De5J",
        "colab_type": "text"
      },
      "source": [
        "Visualize Network based on Centrality Measurement"
      ]
    },
    {
      "cell_type": "code",
      "metadata": {
        "id": "whzLeVNKbPj1",
        "colab_type": "code",
        "colab": {}
      },
      "source": [
        "# Set Degree Dictionary\n",
        "d = dict(degree)\n",
        "\n",
        "# Contstruct a Network\n",
        "G1 = nx.from_pandas_edgelist(df_network1)\n",
        "\n",
        "# Visualize the Network\n",
        "import matplotlib.pyplot as plt\n",
        "plt.figure(figsize=(50,50))\n",
        "nx.draw(G1, with_labels=True, \n",
        "        node_color='skyblue', nodelist=d.keys(),\n",
        "        node_size=[v * 100000 for v in d.values()], \n",
        "        arrowstyle='->',arrowsize=20, edge_color='r',\n",
        "        font_size=9,\n",
        "        pos=nx.kamada_kawai_layout(G1))"
      ],
      "execution_count": 0,
      "outputs": []
    },
    {
      "cell_type": "markdown",
      "metadata": {
        "id": "q9j8PrQWwUA7",
        "colab_type": "text"
      },
      "source": [
        "**Network Topology Measurement**"
      ]
    },
    {
      "cell_type": "markdown",
      "metadata": {
        "id": "WLNTtHEkRWK-",
        "colab_type": "text"
      },
      "source": [
        "The configuration, or topology, of a network is key to determining its performance. Network topology is the way a network is arranged, including the physical or logical description of how links and nodes are set up to relate to each other."
      ]
    },
    {
      "cell_type": "code",
      "metadata": {
        "id": "oLuKZD791wb5",
        "colab_type": "code",
        "colab": {}
      },
      "source": [
        "# Show Number of Nodes\n",
        "nx.number_of_nodes(G1)"
      ],
      "execution_count": 0,
      "outputs": []
    },
    {
      "cell_type": "code",
      "metadata": {
        "id": "dHT180js1lHr",
        "colab_type": "code",
        "colab": {}
      },
      "source": [
        "# Show Number of Edges\n",
        "nx.number_of_edges(G1)"
      ],
      "execution_count": 0,
      "outputs": []
    },
    {
      "cell_type": "code",
      "metadata": {
        "id": "y6W83y_4xpVK",
        "colab_type": "code",
        "colab": {}
      },
      "source": [
        "# Show Graph Density\n",
        "nx.density(G1)"
      ],
      "execution_count": 0,
      "outputs": []
    },
    {
      "cell_type": "code",
      "metadata": {
        "id": "aapo6aGL1N0E",
        "colab_type": "code",
        "colab": {}
      },
      "source": [
        "# Show Number of Connected Component\n",
        "nx.number_connected_components(G1)"
      ],
      "execution_count": 0,
      "outputs": []
    },
    {
      "cell_type": "markdown",
      "metadata": {
        "id": "52AuWdV1BtUZ",
        "colab_type": "text"
      },
      "source": [
        "## c.Community Detection"
      ]
    },
    {
      "cell_type": "markdown",
      "metadata": {
        "id": "5qIbaO55RvCz",
        "colab_type": "text"
      },
      "source": [
        "Community detection is a fundamental problem in social network analysis consisting, roughly speaking, in dividing social actors (modelled as nodes in a social graph) with certain social connections (modelled as edges in the social graph) into densely knitted and highly related groups with each group well separated from different group members."
      ]
    },
    {
      "cell_type": "markdown",
      "metadata": {
        "id": "DPq8nalnLduK",
        "colab_type": "text"
      },
      "source": [
        "**Modularity Community**"
      ]
    },
    {
      "cell_type": "code",
      "metadata": {
        "id": "MCv3Y88JeH1d",
        "colab_type": "code",
        "colab": {}
      },
      "source": [
        "# Import Module\n",
        "from networkx.algorithms.community import greedy_modularity_communities\n",
        "\n",
        "# Modularity Community Detection\n",
        "communities_m = sorted(greedy_modularity_communities(G1), key=len, reverse=True)\n",
        "communities_m"
      ],
      "execution_count": 0,
      "outputs": []
    },
    {
      "cell_type": "code",
      "metadata": {
        "id": "Dwxt7KhbHK-5",
        "colab_type": "code",
        "colab": {}
      },
      "source": [
        "# Set Node Community Function\n",
        "def set_node_community(G1, communities_m):\n",
        "      '''Add community to node attributes'''\n",
        "      for c, v_c in enumerate(communities_m):\n",
        "        for v in v_c:\n",
        "          # Add 1 to save 0 for external edges\n",
        "          G1.nodes[v]['community'] = c + 1      "
      ],
      "execution_count": 0,
      "outputs": []
    },
    {
      "cell_type": "code",
      "metadata": {
        "id": "ujM90pkvH3ME",
        "colab_type": "code",
        "colab": {}
      },
      "source": [
        "# Set Colour Function\n",
        "def get_color(i, r_off=1, g_off=1, b_off=1):\n",
        "     '''Assign a color to a vertex.'''\n",
        "     r0, g0, b0 = 0, 0, 0\n",
        "     n = 16\n",
        "     low, high = 0.1, 0.9\n",
        "     span = high - low\n",
        "     r = low + span * (((i + r_off) * 3) % n) / (n - 1)\n",
        "     g = low + span * (((i + g_off) * 5) % n) / (n - 1)\n",
        "     b = low + span * (((i + b_off) * 7) % n) / (n - 1)\n",
        "     return (r, g, b) "
      ],
      "execution_count": 0,
      "outputs": []
    },
    {
      "cell_type": "code",
      "metadata": {
        "id": "X9uXID-6IJfJ",
        "colab_type": "code",
        "colab": {}
      },
      "source": [
        "# Set Node Communities\n",
        "community = set_node_community(G1, communities_m)\n",
        "\n",
        "# Set Node Color\n",
        "node_color = [get_color(G1.nodes[v]['community']) for v in G1.nodes]\n",
        "\n",
        "# Visualize the Network\n",
        "import matplotlib.pyplot as plt\n",
        "plt.figure(figsize=(50,50))\n",
        "nx.draw(G1, with_labels=True, \n",
        "        node_color = node_color, node_size=1200, \n",
        "        arrowstyle='->',arrowsize=20, edge_color='r',\n",
        "        font_size=9, map = plt.get_cmap('jet'),\n",
        "        pos=nx.kamada_kawai_layout(G1))"
      ],
      "execution_count": 0,
      "outputs": []
    },
    {
      "cell_type": "markdown",
      "metadata": {
        "id": "sHSM5WTLFhBF",
        "colab_type": "text"
      },
      "source": [
        "\n",
        "\n",
        "---\n",
        "\n",
        "\n",
        "##**Network Example on Information Spread : Corona Virus**\n",
        "\n",
        "---\n",
        "\n"
      ]
    },
    {
      "cell_type": "markdown",
      "metadata": {
        "id": "BW9gu_I4GStK",
        "colab_type": "text"
      },
      "source": [
        "**Import Data**"
      ]
    },
    {
      "cell_type": "code",
      "metadata": {
        "id": "XxP1GFxUGNgO",
        "colab_type": "code",
        "colab": {}
      },
      "source": [
        "# Import Data\n",
        "df_corona = pd.read_csv('https://raw.githubusercontent.com/dianrdn/data/master/corona_indo.csv', sep =';')\n",
        "\n",
        "# Show Data\n",
        "df_corona"
      ],
      "execution_count": 0,
      "outputs": []
    },
    {
      "cell_type": "markdown",
      "metadata": {
        "id": "RQe5dxtqGVtt",
        "colab_type": "text"
      },
      "source": [
        "**Construct an Edgelist**"
      ]
    },
    {
      "cell_type": "code",
      "metadata": {
        "id": "MeY6vzrfGi6n",
        "colab_type": "code",
        "colab": {}
      },
      "source": [
        "# Select Source and Target\n",
        "df_corona_network = df_corona[['screen_name', 'reply_to_screen_name']]\n",
        "\n",
        "# Show Source and Target\n",
        "df_corona_network"
      ],
      "execution_count": 0,
      "outputs": []
    },
    {
      "cell_type": "code",
      "metadata": {
        "id": "WKXxSDOlfcCJ",
        "colab_type": "code",
        "colab": {}
      },
      "source": [
        "# Rename the Column Name\n",
        "df_corona_network = df_corona_network.rename(columns={\"screen_name\": \"source\", \"reply_to_screen_name\": \"target\"})\n",
        "\n",
        "# Show Edgelist\n",
        "df_corona_network"
      ],
      "execution_count": 0,
      "outputs": []
    },
    {
      "cell_type": "code",
      "metadata": {
        "id": "e2kjVcoBGnBF",
        "colab_type": "code",
        "colab": {}
      },
      "source": [
        "# Drop Missing Target from the Edge List\n",
        "df_corona_network = df_corona_network.mask(df_corona_network['target'].eq('None')).dropna()\n",
        "\n",
        "# Show Edgelist\n",
        "df_corona_network"
      ],
      "execution_count": 0,
      "outputs": []
    },
    {
      "cell_type": "markdown",
      "metadata": {
        "id": "vUejkcXwH1He",
        "colab_type": "text"
      },
      "source": [
        "**Construct a Network**"
      ]
    },
    {
      "cell_type": "code",
      "metadata": {
        "id": "6Avz7UyDH0uN",
        "colab_type": "code",
        "colab": {}
      },
      "source": [
        "# Contstruct a Network\n",
        "G_corona = nx.from_pandas_edgelist(df_corona_network)\n",
        "\n",
        "# Visualize the Network\n",
        "import matplotlib.pyplot as plt\n",
        "plt.figure(figsize=(100,100))\n",
        "nx.draw(G_corona, with_labels=True, \n",
        "        node_color='skyblue', node_size=1200, \n",
        "        arrowstyle='->',arrowsize=20, edge_color='r',\n",
        "        font_size=9,\n",
        "        pos=nx.kamada_kawai_layout(G_corona))"
      ],
      "execution_count": 0,
      "outputs": []
    },
    {
      "cell_type": "markdown",
      "metadata": {
        "id": "f0720WI-h8Mo",
        "colab_type": "text"
      },
      "source": [
        "**The Important Person**"
      ]
    },
    {
      "cell_type": "code",
      "metadata": {
        "id": "Bekg16zQiNJR",
        "colab_type": "code",
        "colab": {}
      },
      "source": [
        "# Degree Centrality\n",
        "degree_corona = nx.degree(G_corona)\n",
        "\n",
        "# Sorted from the Highest\n",
        "sorted(nx.degree(G_corona), key=lambda x: x[1], reverse=True)[0:10]"
      ],
      "execution_count": 0,
      "outputs": []
    },
    {
      "cell_type": "code",
      "metadata": {
        "id": "vicPB4UgiP0e",
        "colab_type": "code",
        "colab": {}
      },
      "source": [
        "# Betweenness Centrality\n",
        "betweenness_corona = nx.betweenness_centrality(G_corona)\n",
        "\n",
        "# Sorted from the Highest\n",
        "sorted(nx.betweenness_centrality(G_corona, normalized=True).items(), key=lambda x:x[1], reverse=True)[0:10]"
      ],
      "execution_count": 0,
      "outputs": []
    },
    {
      "cell_type": "code",
      "metadata": {
        "id": "avc25EsuiQV2",
        "colab_type": "code",
        "colab": {}
      },
      "source": [
        "# Closeness Centrality\n",
        "closeness_corona = nx.closeness_centrality(G_corona)\n",
        "\n",
        "# Sorted from the Highest\n",
        "sorted(nx.closeness_centrality(G_corona).items(), key=lambda x:x[1], reverse=True)[0:10]"
      ],
      "execution_count": 0,
      "outputs": []
    },
    {
      "cell_type": "code",
      "metadata": {
        "id": "DsLLAVtbiX-Y",
        "colab_type": "code",
        "colab": {}
      },
      "source": [
        "# Eigenvector Centrality\n",
        "eigenvector_corona = nx.eigenvector_centrality(G_corona)\n",
        "\n",
        "# Sorted from the Highest\n",
        "sorted(nx.eigenvector_centrality(G_corona).items(), key=lambda x:x[1], reverse=True)[0:10]"
      ],
      "execution_count": 0,
      "outputs": []
    },
    {
      "cell_type": "markdown",
      "metadata": {
        "id": "R8RRz83O1I2H",
        "colab_type": "text"
      },
      "source": [
        "Visualize Network based on Important People"
      ]
    },
    {
      "cell_type": "code",
      "metadata": {
        "id": "-k6Icot2PL0_",
        "colab_type": "code",
        "colab": {}
      },
      "source": [
        "# Set Degree Dictionary\n",
        "d_corona = dict(degree_corona)\n",
        "\n",
        "# Contstruct a Network\n",
        "G_corona = nx.from_pandas_edgelist(df_corona_network)\n",
        "\n",
        "# Visualize the Network\n",
        "import matplotlib.pyplot as plt\n",
        "plt.figure(figsize=(50,50))\n",
        "nx.draw(G_corona, with_labels=True, \n",
        "        node_color='skyblue', nodelist=d_corona.keys(),\n",
        "        node_size=[v * 1000 for v in d_corona.values()], \n",
        "        arrowstyle='->',arrowsize=20, edge_color='r',\n",
        "        font_size=9,\n",
        "        pos=nx.kamada_kawai_layout(G_corona))"
      ],
      "execution_count": 0,
      "outputs": []
    },
    {
      "cell_type": "markdown",
      "metadata": {
        "id": "EgP4y55iiumC",
        "colab_type": "text"
      },
      "source": [
        "**Network Topology Measurement**"
      ]
    },
    {
      "cell_type": "code",
      "metadata": {
        "id": "UA018uTJi3lN",
        "colab_type": "code",
        "colab": {}
      },
      "source": [
        "# Show Number of Nodes\n",
        "nx.number_of_nodes(G_corona)"
      ],
      "execution_count": 0,
      "outputs": []
    },
    {
      "cell_type": "code",
      "metadata": {
        "id": "GDGx59c1i_EH",
        "colab_type": "code",
        "colab": {}
      },
      "source": [
        "# Show Number of Edges\n",
        "nx.number_of_edges(G_corona)"
      ],
      "execution_count": 0,
      "outputs": []
    },
    {
      "cell_type": "code",
      "metadata": {
        "id": "qpgwYnJAjM3Q",
        "colab_type": "code",
        "colab": {}
      },
      "source": [
        "# Show Graph Density\n",
        "nx.density(G_corona)"
      ],
      "execution_count": 0,
      "outputs": []
    },
    {
      "cell_type": "markdown",
      "metadata": {
        "id": "VrkdXDu_j1PJ",
        "colab_type": "text"
      },
      "source": [
        "**Community Detection**"
      ]
    },
    {
      "cell_type": "code",
      "metadata": {
        "id": "pg7YHG86NUvn",
        "colab_type": "code",
        "colab": {}
      },
      "source": [
        "# Import Module\n",
        "from networkx.algorithms.community import greedy_modularity_communities\n",
        "\n",
        "# Modularity Community Detection\n",
        "communities_corona = sorted(greedy_modularity_communities(G_corona), key=len, reverse=True)\n",
        "communities_corona"
      ],
      "execution_count": 0,
      "outputs": []
    },
    {
      "cell_type": "code",
      "metadata": {
        "id": "QDglGMnC9qhu",
        "colab_type": "code",
        "colab": {}
      },
      "source": [
        "# Set Node Community Function\n",
        "def set_node_community(G_corona, communities_m):\n",
        "      '''Add community to node attributes'''\n",
        "      for c, v_c in enumerate(communities_corona):\n",
        "        for v in v_c:\n",
        "          # Add 1 to save 0 for external edges\n",
        "          G_corona.nodes[v]['community'] = c + 1      "
      ],
      "execution_count": 0,
      "outputs": []
    },
    {
      "cell_type": "code",
      "metadata": {
        "id": "ywCUnt0m9tZE",
        "colab_type": "code",
        "colab": {}
      },
      "source": [
        "# Set Colour Function\n",
        "def get_color(i, r_off=1, g_off=1, b_off=1):\n",
        "     '''Assign a color to a vertex.'''\n",
        "     r0, g0, b0 = 0, 0, 0\n",
        "     n = 16\n",
        "     low, high = 0.1, 0.9\n",
        "     span = high - low\n",
        "     r = low + span * (((i + r_off) * 3) % n) / (n - 1)\n",
        "     g = low + span * (((i + g_off) * 5) % n) / (n - 1)\n",
        "     b = low + span * (((i + b_off) * 7) % n) / (n - 1)\n",
        "     return (r, g, b) "
      ],
      "execution_count": 0,
      "outputs": []
    },
    {
      "cell_type": "code",
      "metadata": {
        "id": "Wf94D3Z39wcN",
        "colab_type": "code",
        "colab": {}
      },
      "source": [
        "# Set Node Communities\n",
        "community = set_node_community(G_corona, communities_corona)\n",
        "\n",
        "# Set Node Color\n",
        "node_color = [get_color(G_corona.nodes[v]['community']) for v in G_corona.nodes]\n",
        "\n",
        "# Set Degree Dictionary\n",
        "d_corona = dict(degree_corona)\n",
        "\n",
        "# Visualize the Network\n",
        "import matplotlib.pyplot as plt\n",
        "plt.figure(figsize=(50,50))\n",
        "nx.draw(G_corona, with_labels=True, \n",
        "        node_color = node_color, node_size=[v * 1000 for v in d_corona.values()],  \n",
        "        arrowstyle='->',arrowsize=20, edge_color='r',\n",
        "        font_size=9, map = plt.get_cmap('jet'),\n",
        "        pos=nx.kamada_kawai_layout(G_corona))"
      ],
      "execution_count": 0,
      "outputs": []
    }
  ]
}