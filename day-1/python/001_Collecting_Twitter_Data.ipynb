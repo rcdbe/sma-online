{
  "nbformat": 4,
  "nbformat_minor": 0,
  "metadata": {
    "colab": {
      "name": "Collecting_Twitter_Data.ipynb",
      "provenance": [],
      "collapsed_sections": [],
      "toc_visible": true,
      "include_colab_link": true
    },
    "kernelspec": {
      "name": "python3",
      "display_name": "Python 3"
    }
  },
  "cells": [
    {
      "cell_type": "markdown",
      "metadata": {
        "id": "view-in-github",
        "colab_type": "text"
      },
      "source": [
        "<a href=\"https://colab.research.google.com/github/rcdbe/sma-online/blob/master/day-1/python/001_Collecting_Twitter_Data.ipynb\" target=\"_parent\"><img src=\"https://colab.research.google.com/assets/colab-badge.svg\" alt=\"Open In Colab\"/></a>"
      ]
    },
    {
      "cell_type": "markdown",
      "metadata": {
        "id": "Up2MQL0imvLy",
        "colab_type": "text"
      },
      "source": [
        "*Social Media Analytics Workshop - Telkom University*\n",
        "\n",
        "\n",
        "---\n",
        "\n",
        "\n"
      ]
    },
    {
      "cell_type": "markdown",
      "metadata": {
        "id": "8Y64-VX3WSZ8",
        "colab_type": "text"
      },
      "source": [
        "# Hand-On Practice: Collecting Twitter Data"
      ]
    },
    {
      "cell_type": "markdown",
      "metadata": {
        "id": "ZQui_5U19fug",
        "colab_type": "text"
      },
      "source": [
        "To collect twitter data in python, we can use Tweepy. Tweepy is the most popular Python Package for accessing the Twitter API, You can read the full documentation [HERE](https://tweepy.readthedocs.io/en/latest/). In this practice, we will practice to get tweet data using a specific keyword and save it as .CSV files"
      ]
    },
    {
      "cell_type": "code",
      "metadata": {
        "id": "qK9C5mLS-uSJ",
        "colab_type": "code",
        "colab": {}
      },
      "source": [
        "# Install Library\n",
        "!pip install tweepy\n"
      ],
      "execution_count": 0,
      "outputs": []
    },
    {
      "cell_type": "code",
      "metadata": {
        "id": "c96ziFJK-to7",
        "colab_type": "code",
        "colab": {}
      },
      "source": [
        "# Import Library\n",
        "import tweepy\n",
        "import pandas as pd\n",
        "import numpy as np"
      ],
      "execution_count": 0,
      "outputs": []
    },
    {
      "cell_type": "code",
      "metadata": {
        "id": "dAdK1U5ytfyo",
        "colab_type": "code",
        "colab": {}
      },
      "source": [
        "# Fill the API Key\n",
        "consumer_key = 'Masukkan Consumer Key'\n",
        "consumer_secret = 'Masukkan Consumer Secret Key'\n",
        "access_token = 'Masukkan Access token'\n",
        "access_token_secret = 'Masukkan Access Token Secret'"
      ],
      "execution_count": 0,
      "outputs": []
    },
    {
      "cell_type": "code",
      "metadata": {
        "id": "awqrWk7gwiAw",
        "colab_type": "code",
        "colab": {}
      },
      "source": [
        "# Auth. \n",
        "auth = tweepy.OAuthHandler(consumer_key, consumer_secret)\n",
        "auth.set_access_token(access_token, access_token_secret)\n",
        "api = tweepy.API(auth)"
      ],
      "execution_count": 0,
      "outputs": []
    },
    {
      "cell_type": "code",
      "metadata": {
        "id": "2d4CRt7uw4wG",
        "colab_type": "code",
        "colab": {}
      },
      "source": [
        "# Finding tweets by Keyword\n",
        "tweets = api.search('startup', count=1000, lang='en')"
      ],
      "execution_count": 0,
      "outputs": []
    },
    {
      "cell_type": "code",
      "metadata": {
        "id": "XrPzhxr5EmJ-",
        "colab_type": "code",
        "colab": {}
      },
      "source": [
        "# Show Tweets\n",
        "tweets"
      ],
      "execution_count": 0,
      "outputs": []
    },
    {
      "cell_type": "code",
      "metadata": {
        "id": "bFEH8_gKy0Fa",
        "colab_type": "code",
        "colab": {}
      },
      "source": [
        "# Print the collected tweet\n",
        "data = pd.DataFrame()\n",
        "data['Created At'] = [tweet.created_at for tweet in tweets]\n",
        "data['Screen Name'] = [tweet.user.screen_name for tweet in tweets]\n",
        "data['Tweet'] = [tweet.text for tweet in tweets]\n",
        "data['Location'] = [tweet.user.location for tweet in tweets]\n",
        "data['Number of Retweet'] = [tweet.retweet_count for tweet in tweets]\n",
        "data['Number of Like'] = [tweet.favorite_count for tweet in tweets]\n",
        "display(data.head(5))"
      ],
      "execution_count": 0,
      "outputs": []
    },
    {
      "cell_type": "code",
      "metadata": {
        "id": "5gF0JgyxO09A",
        "colab_type": "code",
        "colab": {}
      },
      "source": [
        "# Save as .CSV\n",
        "data.to_csv('crawling-result.csv')"
      ],
      "execution_count": 0,
      "outputs": []
    }
  ]
}